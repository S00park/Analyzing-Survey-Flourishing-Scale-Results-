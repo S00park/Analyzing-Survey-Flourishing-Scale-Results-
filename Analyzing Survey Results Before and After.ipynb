{
 "cells": [
  {
   "cell_type": "code",
   "execution_count": 18,
   "metadata": {
    "collapsed": true,
    "deletable": true,
    "editable": true
   },
   "outputs": [],
   "source": [
    "import numpy as np\n",
    "import pandas as pd\n",
    "import csv\n",
    "from csv import reader \n",
    "import matplotlib.pyplot as plt\n",
    "import statistics \n",
    "\n",
    "%matplotlib inline"
   ]
  },
  {
   "cell_type": "code",
   "execution_count": 19,
   "metadata": {
    "collapsed": false,
    "deletable": true,
    "editable": true
   },
   "outputs": [
    {
     "name": "stdout",
     "output_type": "stream",
     "text": [
      "I lead a purposeful and meaningful life\n",
      "My social relationships are supportive and rewarding\n",
      "I am engaged and interested in my daily activities\n",
      "I actively contribute to the happiness and well-being of others\n",
      "I am competent and capable in the activities that are important to me\n",
      "I am a good person and live a good life\n",
      "I am optimistic about my future\n",
      "People respect me\n"
     ]
    }
   ],
   "source": [
    "\"\"\"a look at the questions on the flourishing scale and the \n",
    "scale is defined below it is from 1-7\n",
    "    1. Strongly disagree\n",
    "    2. Disagree\n",
    "    3. Slightly disagree\n",
    "    4. Mixed or neither agree nor disagree\n",
    "    5. Slightly agree\n",
    "    6. Agree\n",
    "    7. Strongly agree\"\"\"\n",
    "\n",
    "flourishingScale=pd.read_csv(\"FlourishingScale.csv\")\n",
    "\n",
    "for questions in flourishingScale:\n",
    "    if len(questions)<5:\n",
    "        pass\n",
    "    else:\n",
    "        print(questions)"
   ]
  },
  {
   "cell_type": "code",
   "execution_count": 20,
   "metadata": {
    "collapsed": true,
    "deletable": true,
    "editable": true
   },
   "outputs": [],
   "source": [
    "'''Analyzing the result of the average \n",
    "students' Flourishing Scale before and after Spring Term '''\n",
    "\n",
    "flourishingScale=pd.read_csv(\"FlourishingScale.csv\")\n",
    "    \n",
    "csvToList=[]   \n",
    "with open('FlourishingScale.csv', 'r') as read_obj:\n",
    "    csv_reader = reader(read_obj)\n",
    "    header = next(csv_reader)\n",
    "    if header != None:\n",
    "        for row in csv_reader:\n",
    "            csvToList.append(row)    \n",
    "\n",
    "preData=[]\n",
    "postData=[]\n",
    "\n",
    "for lists in csvToList:\n",
    "    if lists[1]==\"pre\":\n",
    "        preData.append(lists)\n",
    "    else:\n",
    "        postData.append(lists) "
   ]
  },
  {
   "cell_type": "code",
   "execution_count": 21,
   "metadata": {
    "collapsed": true,
    "deletable": true,
    "editable": true
   },
   "outputs": [],
   "source": [
    "'''Now we have a list of the answers from pre and post the semester'''\n",
    "\"I lead a purposeful and meaningful life\"\n",
    "\n",
    "ileadQ=[]\n",
    "for preAnswers in preData:\n",
    "    answers=preAnswers[2]\n",
    "    ileadQ.append(answers)\n",
    "    \n",
    "\"\"\"converting everything into a int so I can derive the mean\"\"\"\n",
    "\n",
    "converted=[]\n",
    "for strings in  ileadQ:\n",
    "    converted.append(int(strings))\n",
    "\n",
    "ileadQ=statistics.mean(converted)"
   ]
  },
  {
   "cell_type": "code",
   "execution_count": 22,
   "metadata": {
    "collapsed": true,
    "deletable": true,
    "editable": true
   },
   "outputs": [],
   "source": [
    "\"\"\"My social relationships are supportive and rewarding\"\"\"\n",
    "\n",
    "mySocial=[]\n",
    "for preAnswers in preData:\n",
    "    answers=preAnswers[3]\n",
    "    mySocial.append(answers)\n",
    "    \n",
    "\"\"\"converting everything into a int so I can derive the mean\"\"\"\n",
    "\n",
    "converted=[]\n",
    "for strings in mySocial:\n",
    "    converted.append(int(strings))\n",
    "\n",
    "mySocial=statistics.mean(converted)"
   ]
  },
  {
   "cell_type": "code",
   "execution_count": 23,
   "metadata": {
    "collapsed": true,
    "deletable": true,
    "editable": true
   },
   "outputs": [],
   "source": [
    "\"\"\"I am engaged and interested in my daily activities\"\"\"\n",
    "\n",
    "iAmEngaged=[]\n",
    "for preAnswers in preData:\n",
    "    answers=preAnswers[4]\n",
    "    iAmEngaged.append(answers)\n",
    "\n",
    "\"\"\"converting everything into a int so I can derive the mean\"\"\"\n",
    "\n",
    "\n",
    "converted=[]\n",
    "for strings in iAmEngaged:\n",
    "    if strings=='':\n",
    "        pass \n",
    "    else:\n",
    "        converted.append(int(strings))\n",
    "\n",
    "iAmEngaged=statistics.mean(converted)"
   ]
  },
  {
   "cell_type": "code",
   "execution_count": 24,
   "metadata": {
    "collapsed": true,
    "deletable": true,
    "editable": true
   },
   "outputs": [],
   "source": [
    "\"I actively contribute to the happiness and well-being of others\"\n",
    "\n",
    "iActively=[]\n",
    "for preAnswers in preData:\n",
    "    answers=preAnswers[5]\n",
    "    iActively.append(answers)\n",
    "\n",
    "converted=[]\n",
    "for strings in iActively:\n",
    "    if strings=='':\n",
    "        pass \n",
    "    else:\n",
    "        converted.append(int(strings))\n",
    "\n",
    "iActively=statistics.mean(converted)"
   ]
  },
  {
   "cell_type": "code",
   "execution_count": 25,
   "metadata": {
    "collapsed": true,
    "deletable": true,
    "editable": true
   },
   "outputs": [],
   "source": [
    "\"I am competent and capable in the activities that are important to me\"\n",
    "\n",
    "iAmCompetent=[]\n",
    "for preAnswers in preData:\n",
    "    answers=preAnswers[6]\n",
    "    iAmCompetent.append(answers)\n",
    "\n",
    "converted=[]\n",
    "for strings in iAmCompetent:\n",
    "    if strings=='':\n",
    "        pass \n",
    "    else:\n",
    "        converted.append(int(strings))\n",
    "\n",
    "iAmCompetent=statistics.mean(converted)"
   ]
  },
  {
   "cell_type": "code",
   "execution_count": 26,
   "metadata": {
    "collapsed": true,
    "deletable": true,
    "editable": true
   },
   "outputs": [],
   "source": [
    "\"I am a good person and live a good life\",\"I am optimistic about my future\"\n",
    "\n",
    "iAmAGood=[]\n",
    "for preAnswers in preData:\n",
    "    answers=preAnswers[7]\n",
    "    iAmAGood.append(answers)\n",
    "\n",
    "converted=[]\n",
    "for strings in iAmAGood:\n",
    "    if strings=='':\n",
    "        pass \n",
    "    else:\n",
    "        converted.append(int(strings))\n",
    "\n",
    "iAmAGood=statistics.mean(converted)"
   ]
  },
  {
   "cell_type": "code",
   "execution_count": 27,
   "metadata": {
    "collapsed": true,
    "deletable": true,
    "editable": true
   },
   "outputs": [],
   "source": [
    "\"I am optimistic about my future\"\n",
    "\n",
    "iAmOptimistic=[]\n",
    "for preAnswers in preData:\n",
    "    answers=preAnswers[8]\n",
    "    iAmOptimistic.append(answers)\n",
    "\n",
    "converted=[]\n",
    "for strings in iAmOptimistic:\n",
    "    if strings=='':\n",
    "        pass \n",
    "    else:\n",
    "        converted.append(int(strings))\n",
    "\n",
    "iAmOptimistic=statistics.mean(converted)"
   ]
  },
  {
   "cell_type": "code",
   "execution_count": 28,
   "metadata": {
    "collapsed": true,
    "deletable": true,
    "editable": true
   },
   "outputs": [],
   "source": [
    "\"People respect me\"\n",
    "\n",
    "peopleRespect=[]\n",
    "for preAnswers in preData:\n",
    "    answers=preAnswers[9]\n",
    "    peopleRespect.append(answers)\n",
    "\n",
    "converted=[]\n",
    "for strings in peopleRespect:\n",
    "    if strings=='':\n",
    "        pass \n",
    "    else:\n",
    "        converted.append(int(strings))\n",
    "\n",
    "peopleRespect=statistics.mean(converted)"
   ]
  },
  {
   "cell_type": "code",
   "execution_count": 29,
   "metadata": {
    "collapsed": true,
    "deletable": true,
    "editable": true
   },
   "outputs": [],
   "source": [
    "preTogether={}\n",
    "    \n",
    "preTogether[\"I lead a \\npurposeful and \\nmeaningful life\"]=ileadQ\n",
    "preTogether[\"My social \\nrelationships are \\nsupportive and rewarding\"]=mySocial\n",
    "preTogether[\"I am engaged \\nand interested in my \\ndaily activities\"]=iAmEngaged\n",
    "preTogether[\"I actively contribute \\nto the happiness \\nand well-being \\nof others\"]=iActively\n",
    "preTogether[\"I am competent \\nand capable in the a\\nctivities that are \\nimportant to me\"]=iAmCompetent\n",
    "preTogether[\"I am a good person \\nand live a good life\"]=iAmAGood\n",
    "preTogether[\"I am optimistic \\nabout my future\"]=iAmOptimistic\n",
    "preTogether[\"People respect me\"]=peopleRespect"
   ]
  },
  {
   "cell_type": "code",
   "execution_count": 30,
   "metadata": {
    "collapsed": false,
    "deletable": true,
    "editable": true,
    "scrolled": false
   },
   "outputs": [
    {
     "data": {
      "image/png": "[encoded data removed]",
      "text/plain": [
       "<Figure size 1080x360 with 1 Axes>"
      ]
     },
     "metadata": {
      "needs_background": "light"
     },
     "output_type": "display_data"
    }
   ],
   "source": [
    "keys = preTogether.keys()\n",
    "values = preTogether.values()\n",
    "\n",
    "plt.rcParams[\"figure.figsize\"] = (15,5)\n",
    "plt.rc('xtick',labelsize=9)\n",
    "plt.bar(keys, values) \n",
    "plt.title(\"Answers to the Flourshing Survey Pre-Semester\")\n",
    "plt.xlabel(\"Questions\")\n",
    "plt.ylabel(\"Average from Scale of 1-7\");\n",
    "plt.show()"
   ]
  },
  {
   "cell_type": "code",
   "execution_count": 31,
   "metadata": {
    "collapsed": true,
    "deletable": true,
    "editable": true
   },
   "outputs": [],
   "source": [
    "'''Now we have a list of the answers from pre and post the semester'''\n",
    "\"I lead a purposeful and meaningful life\"\n",
    "\n",
    "ileadQ2=[]\n",
    "for postAnswers in postData:\n",
    "    answers=postAnswers[2]\n",
    "    ileadQ2.append(answers)\n",
    "    \n",
    "\"\"\"converting everything into a int so I can derive the mean\"\"\"\n",
    "\n",
    "converted=[]\n",
    "for strings in  ileadQ2:\n",
    "    converted.append(int(strings))\n",
    "\n",
    "ileadQ2=statistics.mean(converted)\n",
    "\n",
    "\"\"\"My social relationships are supportive and rewarding\"\"\"\n",
    "\n",
    "mySocial2=[]\n",
    "for postAnswers in postData:\n",
    "    answers=postAnswers[3]\n",
    "    mySocial2.append(answers)\n",
    "\n",
    "converted=[]\n",
    "for strings in mySocial2:\n",
    "    converted.append(int(strings))\n",
    "\n",
    "mySocial2=statistics.mean(converted)\n",
    "\n",
    "\"\"\"I am engaged and interested in my daily activities\"\"\"\n",
    "\n",
    "iAmEngaged2=[]\n",
    "for postAnswers in postData:\n",
    "    answers=postAnswers[4]\n",
    "    iAmEngaged2.append(answers)\n",
    "\n",
    "converted=[]\n",
    "for strings in iAmEngaged2:\n",
    "    if strings=='':\n",
    "        pass \n",
    "    else:\n",
    "        converted.append(int(strings))\n",
    "\n",
    "iAmEngaged2=statistics.mean(converted)\n",
    "\n",
    "\"I actively contribute to the happiness and well-being of others\"\n",
    "\n",
    "iActively2=[]\n",
    "for postAnswers in postData:\n",
    "    answers=postAnswers[5]\n",
    "    iActively2.append(answers)\n",
    "\n",
    "converted=[]\n",
    "for strings in iActively2:\n",
    "    if strings=='':\n",
    "        pass \n",
    "    else:\n",
    "        converted.append(int(strings))\n",
    "\n",
    "iActively2=statistics.mean(converted)\n",
    "\n",
    "\"I am competent and capable in the activities that are important to me\"\n",
    "\n",
    "iAmCompetent2=[]\n",
    "for postAnswers in postData:\n",
    "    answers=preAnswers[6]\n",
    "    iAmCompetent2.append(answers)\n",
    "\n",
    "converted=[]\n",
    "for strings in iAmCompetent2:\n",
    "    if strings=='':\n",
    "        pass \n",
    "    else:\n",
    "        converted.append(int(strings))\n",
    "\n",
    "iAmCompetent2=statistics.mean(converted)\n",
    "\n",
    "\"I am a good person and live a good life\",\"I am optimistic about my future\"\n",
    "\n",
    "iAmAGood2=[]\n",
    "for postAnswers in postData:\n",
    "    answers=postAnswers[7]\n",
    "    iAmAGood2.append(answers)\n",
    "\n",
    "converted=[]\n",
    "for strings in iAmAGood2:\n",
    "    if strings=='':\n",
    "        pass \n",
    "    else:\n",
    "        converted.append(int(strings))\n",
    "\n",
    "iAmAGood2=statistics.mean(converted)\n",
    "\n",
    "\"I am optimistic about my future\"\n",
    "\n",
    "iAmOptimistic2=[]\n",
    "for postAnswers in postData:\n",
    "    answers=preAnswers[8]\n",
    "    iAmOptimistic2.append(answers)\n",
    "\n",
    "converted=[]\n",
    "for strings in iAmOptimistic2:\n",
    "    if strings=='':\n",
    "        pass \n",
    "    else:\n",
    "        converted.append(int(strings))\n",
    "\n",
    "iAmOptimistic2=statistics.mean(converted)\n",
    "\n",
    "\"People respect me\"\n",
    "\n",
    "peopleRespect2=[]\n",
    "for postAnswers in postData:\n",
    "    answers=postAnswers[9]\n",
    "    peopleRespect2.append(answers)\n",
    "\n",
    "converted=[]\n",
    "for strings in peopleRespect2:\n",
    "    if strings=='':\n",
    "        pass \n",
    "    else:\n",
    "        converted.append(int(strings))\n",
    "\n",
    "peopleRespect2=statistics.mean(converted)"
   ]
  },
  {
   "cell_type": "code",
   "execution_count": 32,
   "metadata": {
    "collapsed": false,
    "deletable": true,
    "editable": true
   },
   "outputs": [
    {
     "data": {
      "image/png": "[encoded data removed]",
      "text/plain": [
       "<Figure size 1080x360 with 1 Axes>"
      ]
     },
     "metadata": {
      "needs_background": "light"
     },
     "output_type": "display_data"
    }
   ],
   "source": [
    "postTogether={}\n",
    "    \n",
    "postTogether[\"I lead a \\npurposeful and \\nmeaningful life\"]=ileadQ2\n",
    "postTogether[\"My social \\nrelationships are \\nsupportive and rewarding\"]=mySocial2\n",
    "postTogether[\"I am engaged \\nand interested in my \\ndaily activities\"]=iAmEngaged2\n",
    "postTogether[\"I actively contribute \\nto the happiness \\nand well-being \\nof others\"]=iActively2\n",
    "postTogether[\"I am competent \\nand capable in the a\\nctivities that are \\nimportant to me\"]=iAmCompetent2\n",
    "postTogether[\"I am a good person \\nand live a good life\"]=iAmAGood2\n",
    "postTogether[\"I am optimistic \\nabout my future\"]=iAmOptimistic2\n",
    "postTogether[\"People respect me\"]=peopleRespect2\n",
    "\n",
    "\n",
    "keys2 = postTogether.keys()\n",
    "values2 = postTogether.values()\n",
    "\n",
    "plt.rcParams[\"figure.figsize\"] = (15,5)\n",
    "plt.rc('xtick',labelsize=9)\n",
    "plt.bar(keys2, values2) \n",
    "plt.title(\"Answers to the Flourshing Survey Post-Semester\")\n",
    "plt.xlabel(\"Questions\")\n",
    "plt.ylabel(\"Average from Scale of 1-7\");\n",
    "plt.show()\n"
   ]
  },
  {
   "cell_type": "code",
   "execution_count": 33,
   "metadata": {
    "collapsed": false,
    "deletable": true,
    "editable": true
   },
   "outputs": [
    {
     "data": {
      "image/png": "[encoded data removed]",
      "text/plain": [
       "<Figure size 1080x360 with 1 Axes>"
      ]
     },
     "metadata": {
      "needs_background": "light"
     },
     "output_type": "display_data"
    }
   ],
   "source": [
    "\"\"\"Now we are going create a grouped bar graph with \n",
    "both the pre and post answers to the survey\"\"\"\n",
    "\n",
    "x = np.arange(len(values))  \n",
    "width = 0.35  \n",
    "\n",
    "fig, ax = plt.subplots()\n",
    "ax.bar(x - width/2, values, width, label='Pre')\n",
    "ax.bar(x + width/2, values2, width, label='Post')\n",
    "\n",
    "ax.set_ylabel('Results')\n",
    "ax.set_xlabel('Survey Questions')\n",
    "ax.set_title('Surveys for post and pre semester answers to the flourishing scale')\n",
    "plt.xticks([r + width for r in range(len(values))], keys)\n",
    "ax.legend()\n",
    "\n",
    "plt.show()"
   ]
  }
 ],
 "metadata": {
  "kernelspec": {
   "display_name": "Python 3",
   "language": "python",
   "name": "python3"
  },
  "language_info": {
   "codemirror_mode": {
    "name": "ipython",
    "version": 3
   },
   "file_extension": ".py",
   "mimetype": "text/x-python",
   "name": "python",
   "nbconvert_exporter": "python",
   "pygments_lexer": "ipython3",
   "version": "3.5.2"
  }
 },
 "nbformat": 4,
 "nbformat_minor": 4
}
